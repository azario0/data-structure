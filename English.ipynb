{
  "cells": [
    {
      "cell_type": "markdown",
      "metadata": {
        "id": "view-in-github",
        "colab_type": "text"
      },
      "source": [
        "<a href=\"https://colab.research.google.com/github/azario0/data-structure/blob/main/English.ipynb\" target=\"_parent\"><img src=\"https://colab.research.google.com/assets/colab-badge.svg\" alt=\"Open In Colab\"/></a>"
      ]
    },
    {
      "cell_type": "markdown",
      "metadata": {
        "id": "9uNiLwcICSPi"
      },
      "source": [
        "# Lists\n",
        "\n",
        "A list is an ordered collection of items. It is one of the most commonly used data structures in Python."
      ]
    },
    {
      "cell_type": "markdown",
      "metadata": {
        "id": "NVuMA9qrCSPl"
      },
      "source": [
        "### Creating a list"
      ]
    },
    {
      "cell_type": "code",
      "execution_count": null,
      "metadata": {
        "id": "1BWuPExACSPm"
      },
      "outputs": [],
      "source": [
        "my_list = [1, 2, 3, 4, 5]"
      ]
    },
    {
      "cell_type": "markdown",
      "metadata": {
        "id": "Ew8z73ugCSPo"
      },
      "source": [
        "### Accessing elements"
      ]
    },
    {
      "cell_type": "code",
      "execution_count": null,
      "metadata": {
        "id": "_woUTKAQCSPp",
        "outputId": "33911df9-0f16-4815-dd3e-aad6687df566"
      },
      "outputs": [
        {
          "name": "stdout",
          "output_type": "stream",
          "text": [
            "1\n"
          ]
        }
      ],
      "source": [
        "\n",
        "print(my_list[0])"
      ]
    },
    {
      "cell_type": "markdown",
      "metadata": {
        "id": "u516j1byCSPr"
      },
      "source": [
        "### Adding an element to the list"
      ]
    },
    {
      "cell_type": "code",
      "execution_count": null,
      "metadata": {
        "id": "b3yx1HubCSPr",
        "outputId": "1cbca4e5-aea5-4a43-dd07-eaa3568076a7"
      },
      "outputs": [
        {
          "name": "stdout",
          "output_type": "stream",
          "text": [
            "[1, 2, 3, 4, 5, 6]\n"
          ]
        }
      ],
      "source": [
        "my_list.append(6)\n",
        "print(my_list)"
      ]
    },
    {
      "cell_type": "markdown",
      "metadata": {
        "id": "VBg4Mr9FCSPs"
      },
      "source": [
        "### Removing an element from the list"
      ]
    },
    {
      "cell_type": "code",
      "execution_count": null,
      "metadata": {
        "id": "P4I6CrVACSPt",
        "outputId": "8b1523ff-08bf-46c6-8d33-45a849fd238b"
      },
      "outputs": [
        {
          "name": "stdout",
          "output_type": "stream",
          "text": [
            "[1, 2, 4, 5, 6]\n"
          ]
        }
      ],
      "source": [
        "my_list.remove(3)\n",
        "print(my_list)"
      ]
    },
    {
      "cell_type": "markdown",
      "metadata": {
        "id": "qZQXpOMtCSPu"
      },
      "source": [
        "# Dictionary\n",
        "A dictionary is a collection of key-value pairs. It is an unordered data structure where each key is unique."
      ]
    },
    {
      "cell_type": "markdown",
      "metadata": {
        "id": "t1r8K36gCSPv"
      },
      "source": [
        "### Creating a dictionary"
      ]
    },
    {
      "cell_type": "code",
      "execution_count": null,
      "metadata": {
        "id": "cMiZUNfzCSPw"
      },
      "outputs": [],
      "source": [
        "my_dict = {'a': 1, 'b': 2, 'c': 3}"
      ]
    },
    {
      "cell_type": "markdown",
      "metadata": {
        "id": "hws1kGipCSPx"
      },
      "source": [
        "### Accessing values"
      ]
    },
    {
      "cell_type": "code",
      "execution_count": null,
      "metadata": {
        "id": "-8_JwSwhCSPx",
        "outputId": "438f497b-9ce4-40bb-94d9-a4addbe8b194"
      },
      "outputs": [
        {
          "name": "stdout",
          "output_type": "stream",
          "text": [
            "1\n"
          ]
        }
      ],
      "source": [
        "print(my_dict['a'])"
      ]
    },
    {
      "cell_type": "markdown",
      "metadata": {
        "id": "o-B8DGcjCSPx"
      },
      "source": [
        "### Adding a new key-value pair"
      ]
    },
    {
      "cell_type": "code",
      "execution_count": null,
      "metadata": {
        "id": "PwMRbMZkCSPy",
        "outputId": "b1edd942-b212-4b6c-a43b-529e6b3ccf28"
      },
      "outputs": [
        {
          "name": "stdout",
          "output_type": "stream",
          "text": [
            "{'a': 1, 'b': 2, 'c': 3, 'd': 4}\n"
          ]
        }
      ],
      "source": [
        "my_dict['d'] = 4\n",
        "print(my_dict)"
      ]
    },
    {
      "cell_type": "markdown",
      "metadata": {
        "id": "70fepvDtCSPy"
      },
      "source": [
        "### Removing a key-value pair"
      ]
    },
    {
      "cell_type": "code",
      "execution_count": null,
      "metadata": {
        "id": "o1XxmcyqCSPz",
        "outputId": "70665b44-abf6-4342-bc05-627b8f7cea65"
      },
      "outputs": [
        {
          "name": "stdout",
          "output_type": "stream",
          "text": [
            "{'a': 1, 'c': 3, 'd': 4}\n"
          ]
        }
      ],
      "source": [
        "del my_dict['b']\n",
        "print(my_dict)"
      ]
    },
    {
      "cell_type": "markdown",
      "metadata": {
        "id": "aR3eIfm5CSPz"
      },
      "source": [
        "# Stack\n",
        "A stack is a data structure that follows the Last-In-First-Out (LIFO) principle. In Python, a list can be used to implement a stack."
      ]
    },
    {
      "cell_type": "markdown",
      "metadata": {
        "id": "IWxamjZ_CSP0"
      },
      "source": [
        "### Creating a stack"
      ]
    },
    {
      "cell_type": "code",
      "execution_count": null,
      "metadata": {
        "id": "zpnREc6WCSP0"
      },
      "outputs": [],
      "source": [
        "stack = []"
      ]
    },
    {
      "cell_type": "markdown",
      "metadata": {
        "id": "3GeVEvv8CSP0"
      },
      "source": [
        "### Pushing elements onto the stack"
      ]
    },
    {
      "cell_type": "code",
      "execution_count": null,
      "metadata": {
        "id": "vc5L9-EkCSP0",
        "outputId": "0070e218-3ae8-4b2d-e37b-ca15c98b16f0"
      },
      "outputs": [
        {
          "name": "stdout",
          "output_type": "stream",
          "text": [
            "[1, 2]\n"
          ]
        }
      ],
      "source": [
        "stack.append(1)\n",
        "stack.append(2)\n",
        "print(stack)"
      ]
    },
    {
      "cell_type": "markdown",
      "metadata": {
        "id": "2oKKiagTCSP0"
      },
      "source": [
        "### Popping elements from the stack"
      ]
    },
    {
      "cell_type": "code",
      "execution_count": null,
      "metadata": {
        "id": "mWkYr5gfCSP1",
        "outputId": "0871666a-e6f0-4a98-d7b1-58ddd103aa4e"
      },
      "outputs": [
        {
          "name": "stdout",
          "output_type": "stream",
          "text": [
            "2\n",
            "[1]\n"
          ]
        }
      ],
      "source": [
        "print(stack.pop())\n",
        "print(stack)"
      ]
    },
    {
      "cell_type": "markdown",
      "metadata": {
        "id": "BqXFROeNCSP1"
      },
      "source": [
        "# Queue\n",
        "A queue is a data structure that follows the First-In-First-Out (FIFO) principle. In Python, the deque from the collections module is commonly used to implement a queue."
      ]
    },
    {
      "cell_type": "markdown",
      "metadata": {
        "id": "UBc-2Q7NCSP1"
      },
      "source": [
        "### Importing and creating a queue"
      ]
    },
    {
      "cell_type": "code",
      "execution_count": null,
      "metadata": {
        "id": "gPR7kOPRCSP2"
      },
      "outputs": [],
      "source": [
        "from collections import deque\n",
        "queue = deque()"
      ]
    },
    {
      "cell_type": "markdown",
      "metadata": {
        "id": "voX_5zMjCSP2"
      },
      "source": [
        "### Enqueuing elements"
      ]
    },
    {
      "cell_type": "code",
      "execution_count": null,
      "metadata": {
        "id": "o-acHJspCSP2",
        "outputId": "789f4073-5d42-49f6-b4d1-4a6965ff552c"
      },
      "outputs": [
        {
          "name": "stdout",
          "output_type": "stream",
          "text": [
            "deque([1, 2, 3])\n"
          ]
        }
      ],
      "source": [
        "queue.append(1)\n",
        "queue.append(2)\n",
        "queue.append(3)\n",
        "print(queue)"
      ]
    },
    {
      "cell_type": "markdown",
      "metadata": {
        "id": "74e1GflTCSP2"
      },
      "source": [
        "### Dequeuing elements"
      ]
    },
    {
      "cell_type": "code",
      "execution_count": null,
      "metadata": {
        "id": "YWfEFCFaCSP2",
        "outputId": "2c2812fa-d5b3-4165-f6ff-28cecc569edd"
      },
      "outputs": [
        {
          "name": "stdout",
          "output_type": "stream",
          "text": [
            "1\n",
            "2\n",
            "deque([3])\n"
          ]
        }
      ],
      "source": [
        "print(queue.popleft())\n",
        "print(queue.popleft())\n",
        "print(queue)"
      ]
    },
    {
      "cell_type": "code",
      "execution_count": null,
      "metadata": {
        "id": "HK4CfRofCSP3"
      },
      "outputs": [],
      "source": []
    }
  ],
  "metadata": {
    "kernelspec": {
      "display_name": "Python 3",
      "language": "python",
      "name": "python3"
    },
    "language_info": {
      "codemirror_mode": {
        "name": "ipython",
        "version": 3
      },
      "file_extension": ".py",
      "mimetype": "text/x-python",
      "name": "python",
      "nbconvert_exporter": "python",
      "pygments_lexer": "ipython3",
      "version": "3.10.12"
    },
    "colab": {
      "provenance": [],
      "include_colab_link": true
    }
  },
  "nbformat": 4,
  "nbformat_minor": 0
}