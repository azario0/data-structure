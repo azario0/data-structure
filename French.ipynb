{
  "cells": [
    {
      "cell_type": "markdown",
      "metadata": {
        "id": "view-in-github",
        "colab_type": "text"
      },
      "source": [
        "<a href=\"https://colab.research.google.com/github/azario0/data-structure/blob/main/French.ipynb\" target=\"_parent\"><img src=\"https://colab.research.google.com/assets/colab-badge.svg\" alt=\"Open In Colab\"/></a>"
      ]
    },
    {
      "cell_type": "markdown",
      "metadata": {
        "id": "ad9KXnUwDFuD"
      },
      "source": [
        "# Listes\n",
        "\n",
        "Une liste est une collection ordonnée d'éléments. C'est l'une des structures de données les plus couramment utilisées en Python."
      ]
    },
    {
      "cell_type": "markdown",
      "metadata": {
        "id": "U6hmNZzSDFuG"
      },
      "source": [
        "### Création d'une liste"
      ]
    },
    {
      "cell_type": "code",
      "execution_count": null,
      "metadata": {
        "id": "hIeaBT0nDFuG"
      },
      "outputs": [],
      "source": [
        "ma_liste = [1, 2, 3, 4, 5]"
      ]
    },
    {
      "cell_type": "markdown",
      "metadata": {
        "id": "m6Z2VJ7ZDFuH"
      },
      "source": [
        "### Accès aux éléments"
      ]
    },
    {
      "cell_type": "code",
      "execution_count": null,
      "metadata": {
        "id": "w4OBRHGPDFuI",
        "outputId": "c61a3267-6175-4477-c21e-f34f47bedfb6"
      },
      "outputs": [
        {
          "name": "stdout",
          "output_type": "stream",
          "text": [
            "1\n"
          ]
        }
      ],
      "source": [
        "\n",
        "print(ma_liste[0])"
      ]
    },
    {
      "cell_type": "markdown",
      "metadata": {
        "id": "9kb5rPg7DFuI"
      },
      "source": [
        "### Ajout d'un élément à la liste"
      ]
    },
    {
      "cell_type": "code",
      "execution_count": null,
      "metadata": {
        "id": "26tI9cfXDFuJ",
        "outputId": "8c55916a-cc0e-413e-bc00-e2d67d19a79d"
      },
      "outputs": [
        {
          "name": "stdout",
          "output_type": "stream",
          "text": [
            "[1, 2, 3, 4, 5, 6]\n"
          ]
        }
      ],
      "source": [
        "ma_liste.append(6)\n",
        "print(ma_liste)"
      ]
    },
    {
      "cell_type": "markdown",
      "metadata": {
        "id": "9EI_kvkQDFuK"
      },
      "source": [
        "### Suppression d'un élément de la liste"
      ]
    },
    {
      "cell_type": "code",
      "execution_count": null,
      "metadata": {
        "id": "HccNAXL1DFuK",
        "outputId": "2e6fe541-df4c-45d1-bf32-ce276251fe97"
      },
      "outputs": [
        {
          "name": "stdout",
          "output_type": "stream",
          "text": [
            "[1, 2, 4, 5, 6]\n"
          ]
        }
      ],
      "source": [
        "ma_liste.remove(3)\n",
        "print(ma_liste)"
      ]
    },
    {
      "cell_type": "markdown",
      "metadata": {
        "id": "sQH_53neDFuM"
      },
      "source": [
        "# Dictionnaire\n",
        "Un dictionnaire est une collection de paires clé-valeur. C'est une structure de données non ordonnée où chaque clé est unique."
      ]
    },
    {
      "cell_type": "markdown",
      "metadata": {
        "id": "KXNfB9fUDFuN"
      },
      "source": [
        "### Création d'un dictionnaire"
      ]
    },
    {
      "cell_type": "code",
      "execution_count": null,
      "metadata": {
        "id": "Z3ZlBxJTDFuN"
      },
      "outputs": [],
      "source": [
        "mon_dictionnaire = {'a': 1, 'b': 2, 'c': 3}"
      ]
    },
    {
      "cell_type": "markdown",
      "metadata": {
        "id": "HPUYJJlnDFuO"
      },
      "source": [
        "### Accès aux valeurs"
      ]
    },
    {
      "cell_type": "code",
      "execution_count": null,
      "metadata": {
        "id": "yVT-3I1NDFuO",
        "outputId": "e00d2b64-9da4-4d7a-8fb5-c18b0b391b5c"
      },
      "outputs": [
        {
          "name": "stdout",
          "output_type": "stream",
          "text": [
            "1\n"
          ]
        }
      ],
      "source": [
        "print(mon_dictionnaire['a'])"
      ]
    },
    {
      "cell_type": "markdown",
      "metadata": {
        "id": "XR1LeuF-DFuO"
      },
      "source": [
        "### Ajout d'une nouvelle paire clé-valeur"
      ]
    },
    {
      "cell_type": "code",
      "execution_count": null,
      "metadata": {
        "id": "B-Qy4-i9DFuP",
        "outputId": "544f4116-4651-40b3-f0d5-5bcce1d80f69"
      },
      "outputs": [
        {
          "name": "stdout",
          "output_type": "stream",
          "text": [
            "{'a': 1, 'b': 2, 'c': 3, 'd': 4}\n"
          ]
        }
      ],
      "source": [
        "mon_dictionnaire['d'] = 4\n",
        "print(mon_dictionnaire)"
      ]
    },
    {
      "cell_type": "markdown",
      "metadata": {
        "id": "rjrTC7dTDFuP"
      },
      "source": [
        "### Suppression d'une paire clé-valeur"
      ]
    },
    {
      "cell_type": "code",
      "execution_count": null,
      "metadata": {
        "id": "TzEwymkoDFuQ",
        "outputId": "189f4900-a059-488d-85de-1f9b04a204f4"
      },
      "outputs": [
        {
          "name": "stdout",
          "output_type": "stream",
          "text": [
            "{'a': 1, 'c': 3, 'd': 4}\n"
          ]
        }
      ],
      "source": [
        "del mon_dictionnaire['b']\n",
        "print(mon_dictionnaire)"
      ]
    },
    {
      "cell_type": "markdown",
      "metadata": {
        "id": "VaAY5RxpDFuQ"
      },
      "source": [
        "# Pile\n",
        "Une pile est une structure de données qui suit le principe \"Dernier entré, premier sorti\" (LIFO). En Python, une liste peut être utilisée pour implémenter une pile."
      ]
    },
    {
      "cell_type": "markdown",
      "metadata": {
        "id": "Q09sQnb4DFuQ"
      },
      "source": [
        "### Création d'une pile"
      ]
    },
    {
      "cell_type": "code",
      "execution_count": null,
      "metadata": {
        "id": "bLQRtJCfDFuR"
      },
      "outputs": [],
      "source": [
        "pile = []"
      ]
    },
    {
      "cell_type": "markdown",
      "metadata": {
        "id": "pXzsjUPHDFuR"
      },
      "source": [
        "### Empiler des éléments sur la pile (push)"
      ]
    },
    {
      "cell_type": "code",
      "execution_count": null,
      "metadata": {
        "id": "p8emm_n0DFuR",
        "outputId": "dca0857f-fa48-41ed-c803-671c92ca2bb1"
      },
      "outputs": [
        {
          "name": "stdout",
          "output_type": "stream",
          "text": [
            "[1, 2]\n"
          ]
        }
      ],
      "source": [
        "pile.append(1)\n",
        "pile.append(2)\n",
        "print(pile)"
      ]
    },
    {
      "cell_type": "markdown",
      "metadata": {
        "id": "3nmnUW9EDFuR"
      },
      "source": [
        "### Dépiler des éléments de la pile (pop)"
      ]
    },
    {
      "cell_type": "code",
      "execution_count": null,
      "metadata": {
        "id": "wVfcnVv7DFuS",
        "outputId": "9536ec6b-d28b-4390-c413-9f74685cd04e"
      },
      "outputs": [
        {
          "name": "stdout",
          "output_type": "stream",
          "text": [
            "2\n",
            "[1]\n"
          ]
        }
      ],
      "source": [
        "print(pile.pop())\n",
        "print(pile)"
      ]
    },
    {
      "cell_type": "markdown",
      "metadata": {
        "id": "f_54ACh2DFuS"
      },
      "source": [
        "# File d'attente\n",
        "Une file d'attente est une structure de données qui suit le principe \"Premier entré, premier sorti\" (FIFO). En Python, la structure `deque` du module `collections` est couramment utilisée pour implémenter une file d'attente."
      ]
    },
    {
      "cell_type": "markdown",
      "metadata": {
        "id": "vdVYuIiIDFuS"
      },
      "source": [
        "### Importation et création d'une file d'attente"
      ]
    },
    {
      "cell_type": "code",
      "execution_count": null,
      "metadata": {
        "id": "XEhzdsGIDFuT"
      },
      "outputs": [],
      "source": [
        "from collections import deque\n",
        "file_attente = deque()"
      ]
    },
    {
      "cell_type": "markdown",
      "metadata": {
        "id": "c-QOwYqpDFuT"
      },
      "source": [
        "### Enfiler des éléments (enqueue)"
      ]
    },
    {
      "cell_type": "code",
      "execution_count": null,
      "metadata": {
        "id": "8fJnk-rCDFuU",
        "outputId": "88f18f7d-c187-4280-8bc2-54ec8a5ee6a2"
      },
      "outputs": [
        {
          "name": "stdout",
          "output_type": "stream",
          "text": [
            "deque([1, 2, 3])\n"
          ]
        }
      ],
      "source": [
        "file_attente.append(1)\n",
        "file_attente.append(2)\n",
        "file_attente.append(3)\n",
        "print(file_attente)"
      ]
    },
    {
      "cell_type": "markdown",
      "metadata": {
        "id": "wHAGbMdJDFuV"
      },
      "source": [
        "### Défiler des éléments (dequeue)"
      ]
    },
    {
      "cell_type": "code",
      "execution_count": null,
      "metadata": {
        "id": "i_qXtDV1DFuV",
        "outputId": "af41608a-2ff8-42cd-9972-fc8066a4ec14"
      },
      "outputs": [
        {
          "name": "stdout",
          "output_type": "stream",
          "text": [
            "1\n",
            "2\n",
            "deque([3])\n"
          ]
        }
      ],
      "source": [
        "print(file_attente.popleft())\n",
        "print(file_attente.popleft())\n",
        "print(file_attente)"
      ]
    },
    {
      "cell_type": "code",
      "execution_count": null,
      "metadata": {
        "id": "ophAilGRDFuV"
      },
      "outputs": [],
      "source": []
    }
  ],
  "metadata": {
    "kernelspec": {
      "display_name": "Python 3",
      "language": "python",
      "name": "python3"
    },
    "language_info": {
      "codemirror_mode": {
        "name": "ipython",
        "version": 3
      },
      "file_extension": ".py",
      "mimetype": "text/x-python",
      "name": "python",
      "nbconvert_exporter": "python",
      "pygments_lexer": "ipython3",
      "version": "3.10.12"
    },
    "colab": {
      "provenance": [],
      "include_colab_link": true
    }
  },
  "nbformat": 4,
  "nbformat_minor": 0
}